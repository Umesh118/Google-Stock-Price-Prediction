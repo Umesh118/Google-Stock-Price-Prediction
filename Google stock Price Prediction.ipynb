{
 "cells": [
  {
   "cell_type": "code",
   "execution_count": 3,
   "metadata": {},
   "outputs": [
    {
     "name": "stderr",
     "output_type": "stream",
     "text": [
      "Using TensorFlow backend.\n"
     ]
    }
   ],
   "source": [
    "import numpy as np\n",
    "import pandas as pd\n",
    "import matplotlib.pyplot as plt\n",
    "import seaborn\n",
    "import os\n",
    "import keras\n",
    "from keras.models import Sequential\n",
    "from keras.layers import Dense, LSTM, Dropout"
   ]
  },
  {
   "cell_type": "code",
   "execution_count": 4,
   "metadata": {},
   "outputs": [],
   "source": [
    "dataset_train = pd.read_csv(r'C:\\Users\\Umesh\\Documents\\JupyterNotebook\\google stock price prediction\\trainset.csv')"
   ]
  },
  {
   "cell_type": "code",
   "execution_count": 5,
   "metadata": {},
   "outputs": [
    {
     "data": {
      "text/html": [
       "<div>\n",
       "<style scoped>\n",
       "    .dataframe tbody tr th:only-of-type {\n",
       "        vertical-align: middle;\n",
       "    }\n",
       "\n",
       "    .dataframe tbody tr th {\n",
       "        vertical-align: top;\n",
       "    }\n",
       "\n",
       "    .dataframe thead th {\n",
       "        text-align: right;\n",
       "    }\n",
       "</style>\n",
       "<table border=\"1\" class=\"dataframe\">\n",
       "  <thead>\n",
       "    <tr style=\"text-align: right;\">\n",
       "      <th></th>\n",
       "      <th>Date</th>\n",
       "      <th>Open</th>\n",
       "      <th>High</th>\n",
       "      <th>Low</th>\n",
       "      <th>Close</th>\n",
       "      <th>Adj Close</th>\n",
       "      <th>Volume</th>\n",
       "    </tr>\n",
       "  </thead>\n",
       "  <tbody>\n",
       "    <tr>\n",
       "      <td>0</td>\n",
       "      <td>2/25/2015</td>\n",
       "      <td>534.432739</td>\n",
       "      <td>544.724487</td>\n",
       "      <td>533.978943</td>\n",
       "      <td>542.380920</td>\n",
       "      <td>542.380920</td>\n",
       "      <td>1825900</td>\n",
       "    </tr>\n",
       "    <tr>\n",
       "      <td>1</td>\n",
       "      <td>2/26/2015</td>\n",
       "      <td>541.722717</td>\n",
       "      <td>554.617310</td>\n",
       "      <td>540.017395</td>\n",
       "      <td>553.959106</td>\n",
       "      <td>553.959106</td>\n",
       "      <td>2311500</td>\n",
       "    </tr>\n",
       "    <tr>\n",
       "      <td>2</td>\n",
       "      <td>2/27/2015</td>\n",
       "      <td>552.722473</td>\n",
       "      <td>563.163818</td>\n",
       "      <td>551.386169</td>\n",
       "      <td>556.871094</td>\n",
       "      <td>556.871094</td>\n",
       "      <td>2410100</td>\n",
       "    </tr>\n",
       "    <tr>\n",
       "      <td>3</td>\n",
       "      <td>3/2/2015</td>\n",
       "      <td>558.995300</td>\n",
       "      <td>570.583435</td>\n",
       "      <td>557.220154</td>\n",
       "      <td>569.775696</td>\n",
       "      <td>569.775696</td>\n",
       "      <td>2129600</td>\n",
       "    </tr>\n",
       "    <tr>\n",
       "      <td>4</td>\n",
       "      <td>3/3/2015</td>\n",
       "      <td>568.888123</td>\n",
       "      <td>573.814575</td>\n",
       "      <td>564.968872</td>\n",
       "      <td>572.069397</td>\n",
       "      <td>572.069397</td>\n",
       "      <td>1704700</td>\n",
       "    </tr>\n",
       "  </tbody>\n",
       "</table>\n",
       "</div>"
      ],
      "text/plain": [
       "        Date        Open        High         Low       Close   Adj Close  \\\n",
       "0  2/25/2015  534.432739  544.724487  533.978943  542.380920  542.380920   \n",
       "1  2/26/2015  541.722717  554.617310  540.017395  553.959106  553.959106   \n",
       "2  2/27/2015  552.722473  563.163818  551.386169  556.871094  556.871094   \n",
       "3   3/2/2015  558.995300  570.583435  557.220154  569.775696  569.775696   \n",
       "4   3/3/2015  568.888123  573.814575  564.968872  572.069397  572.069397   \n",
       "\n",
       "    Volume  \n",
       "0  1825900  \n",
       "1  2311500  \n",
       "2  2410100  \n",
       "3  2129600  \n",
       "4  1704700  "
      ]
     },
     "execution_count": 5,
     "metadata": {},
     "output_type": "execute_result"
    }
   ],
   "source": [
    "dataset_train.head()"
   ]
  },
  {
   "cell_type": "code",
   "execution_count": 6,
   "metadata": {},
   "outputs": [],
   "source": [
    "train_set = dataset_train.iloc[:,1:2].values"
   ]
  },
  {
   "cell_type": "code",
   "execution_count": 7,
   "metadata": {},
   "outputs": [
    {
     "data": {
      "text/plain": [
       "array([[ 534.432739],\n",
       "       [ 541.722717],\n",
       "       [ 552.722473],\n",
       "       ...,\n",
       "       [1522.      ],\n",
       "       [1508.030029],\n",
       "       [1426.109985]])"
      ]
     },
     "execution_count": 7,
     "metadata": {},
     "output_type": "execute_result"
    }
   ],
   "source": [
    "train_set"
   ]
  },
  {
   "cell_type": "code",
   "execution_count": 14,
   "metadata": {},
   "outputs": [],
   "source": [
    "from sklearn.preprocessing import MinMaxScaler\n",
    "sc = MinMaxScaler(feature_range=(0,1))\n",
    "training_set_scaled = sc.fit_transform(train_set)"
   ]
  },
  {
   "cell_type": "code",
   "execution_count": 15,
   "metadata": {},
   "outputs": [
    {
     "data": {
      "text/plain": [
       "array([[0.01485003],\n",
       "       [0.02209962],\n",
       "       [0.03303845],\n",
       "       ...,\n",
       "       [0.99694706],\n",
       "       [0.98305447],\n",
       "       [0.90158819]])"
      ]
     },
     "execution_count": 15,
     "metadata": {},
     "output_type": "execute_result"
    }
   ],
   "source": [
    "training_set_scaled"
   ]
  },
  {
   "cell_type": "code",
   "execution_count": 16,
   "metadata": {},
   "outputs": [],
   "source": [
    "x_train = []\n",
    "y_train = []"
   ]
  },
  {
   "cell_type": "code",
   "execution_count": 19,
   "metadata": {},
   "outputs": [],
   "source": [
    "for i in range(60,1258):\n",
    "  x_train.append(training_set_scaled[i-60:i,0])\n",
    "  y_train.append(training_set_scaled[i,0])\n",
    "x_train,y_train=np.array(x_train),np.array(y_train)"
   ]
  },
  {
   "cell_type": "code",
   "execution_count": 20,
   "metadata": {},
   "outputs": [],
   "source": [
    "#Reshaping\n",
    "x_train=np.reshape(x_train,(x_train.shape[0],x_train.shape[1],1)) "
   ]
  },
  {
   "cell_type": "code",
   "execution_count": 21,
   "metadata": {},
   "outputs": [],
   "source": [
    "#Building the RNN\n",
    "#Import the keras libraries and packages\n",
    "from keras.models import Sequential\n",
    "from keras.layers import Dense\n",
    "from keras.layers import LSTM\n",
    "from keras.layers import Dropout"
   ]
  },
  {
   "cell_type": "code",
   "execution_count": 23,
   "metadata": {},
   "outputs": [],
   "source": [
    "model = Sequential()\n",
    "#Adding the first LSTM layer and add dropout regularization\n",
    "model.add(LSTM(units = 50, return_sequences = True, input_shape = (x_train.shape[1],1)))\n",
    "model.add(Dropout(0.2))\n",
    "#Adding the second LSTM layer and add dropout regularization\n",
    "model.add(LSTM(units=50, return_sequences=True))\n",
    "model.add(Dropout(0.2))\n",
    "#Adding the third LSTM layer and add dropout regularization\n",
    "model.add(LSTM(units=50,return_sequences=True))\n",
    "model.add(Dropout(0.2))\n",
    "#Adding the fourth LSTM layer and add dropout regularization\n",
    "model.add(LSTM(units=50))\n",
    "model.add(Dropout(0.2))\n",
    "#Adding the output layer\n",
    "model.add(Dense(units=1))"
   ]
  },
  {
   "cell_type": "code",
   "execution_count": 24,
   "metadata": {},
   "outputs": [],
   "source": [
    "model.compile(optimizer='adam', loss='mean_squared_error')"
   ]
  },
  {
   "cell_type": "code",
   "execution_count": 25,
   "metadata": {},
   "outputs": [
    {
     "name": "stdout",
     "output_type": "stream",
     "text": [
      "Epoch 1/100\n",
      "3594/3594 [==============================] - 18s 5ms/step - loss: 0.0140\n",
      "Epoch 2/100\n",
      "3594/3594 [==============================] - 12s 3ms/step - loss: 0.0039\n",
      "Epoch 3/100\n",
      "3594/3594 [==============================] - 12s 3ms/step - loss: 0.0034\n",
      "Epoch 4/100\n",
      "3594/3594 [==============================] - 13s 3ms/step - loss: 0.0032\n",
      "Epoch 5/100\n",
      "3594/3594 [==============================] - 14s 4ms/step - loss: 0.0029\n",
      "Epoch 6/100\n",
      "3594/3594 [==============================] - 14s 4ms/step - loss: 0.0029\n",
      "Epoch 7/100\n",
      "3594/3594 [==============================] - 14s 4ms/step - loss: 0.0026\n",
      "Epoch 8/100\n",
      "3594/3594 [==============================] - 15s 4ms/step - loss: 0.0027\n",
      "Epoch 9/100\n",
      "3594/3594 [==============================] - 13s 4ms/step - loss: 0.0024\n",
      "Epoch 10/100\n",
      "3594/3594 [==============================] - 13s 4ms/step - loss: 0.0024\n",
      "Epoch 11/100\n",
      "3594/3594 [==============================] - 13s 3ms/step - loss: 0.0022\n",
      "Epoch 12/100\n",
      "3594/3594 [==============================] - 13s 4ms/step - loss: 0.0022\n",
      "Epoch 13/100\n",
      "3594/3594 [==============================] - 13s 4ms/step - loss: 0.0022\n",
      "Epoch 14/100\n",
      "3594/3594 [==============================] - 13s 4ms/step - loss: 0.0020\n",
      "Epoch 15/100\n",
      "3594/3594 [==============================] - 13s 4ms/step - loss: 0.0021\n",
      "Epoch 16/100\n",
      "3594/3594 [==============================] - 13s 4ms/step - loss: 0.0019\n",
      "Epoch 17/100\n",
      "3594/3594 [==============================] - 15s 4ms/step - loss: 0.0017\n",
      "Epoch 18/100\n",
      "3594/3594 [==============================] - 14s 4ms/step - loss: 0.0018\n",
      "Epoch 19/100\n",
      "3594/3594 [==============================] - 15s 4ms/step - loss: 0.0017\n",
      "Epoch 20/100\n",
      "3594/3594 [==============================] - 14s 4ms/step - loss: 0.0016\n",
      "Epoch 21/100\n",
      "3594/3594 [==============================] - 14s 4ms/step - loss: 0.0016\n",
      "Epoch 22/100\n",
      "3594/3594 [==============================] - 14s 4ms/step - loss: 0.0015\n",
      "Epoch 23/100\n",
      "3594/3594 [==============================] - 15s 4ms/step - loss: 0.0014\n",
      "Epoch 24/100\n",
      "3594/3594 [==============================] - 15s 4ms/step - loss: 0.0014\n",
      "Epoch 25/100\n",
      "3594/3594 [==============================] - 14s 4ms/step - loss: 0.0013\n",
      "Epoch 26/100\n",
      "3594/3594 [==============================] - 14s 4ms/step - loss: 0.0014\n",
      "Epoch 27/100\n",
      "3594/3594 [==============================] - 15s 4ms/step - loss: 0.0013\n",
      "Epoch 28/100\n",
      "3594/3594 [==============================] - 14s 4ms/step - loss: 0.0013\n",
      "Epoch 29/100\n",
      "3594/3594 [==============================] - 14s 4ms/step - loss: 0.0013\n",
      "Epoch 30/100\n",
      "3594/3594 [==============================] - 13s 4ms/step - loss: 0.0011\n",
      "Epoch 31/100\n",
      "3594/3594 [==============================] - 14s 4ms/step - loss: 0.0012\n",
      "Epoch 32/100\n",
      "3594/3594 [==============================] - 14s 4ms/step - loss: 0.0012\n",
      "Epoch 33/100\n",
      "3594/3594 [==============================] - 13s 4ms/step - loss: 0.0011\n",
      "Epoch 34/100\n",
      "3594/3594 [==============================] - 15s 4ms/step - loss: 9.8597e-04\n",
      "Epoch 35/100\n",
      "3594/3594 [==============================] - 14s 4ms/step - loss: 0.0010\n",
      "Epoch 36/100\n",
      "3594/3594 [==============================] - 14s 4ms/step - loss: 0.0010\n",
      "Epoch 37/100\n",
      "3594/3594 [==============================] - 14s 4ms/step - loss: 0.0010\n",
      "Epoch 38/100\n",
      "3594/3594 [==============================] - 13s 4ms/step - loss: 9.9878e-04\n",
      "Epoch 39/100\n",
      "3594/3594 [==============================] - 14s 4ms/step - loss: 9.6457e-04\n",
      "Epoch 40/100\n",
      "3594/3594 [==============================] - 14s 4ms/step - loss: 9.6383e-04\n",
      "Epoch 41/100\n",
      "3594/3594 [==============================] - 14s 4ms/step - loss: 9.5817e-04\n",
      "Epoch 42/100\n",
      "3594/3594 [==============================] - 14s 4ms/step - loss: 9.5041e-04\n",
      "Epoch 43/100\n",
      "3594/3594 [==============================] - 13s 4ms/step - loss: 8.7630e-04\n",
      "Epoch 44/100\n",
      "3594/3594 [==============================] - 14s 4ms/step - loss: 9.2952e-04\n",
      "Epoch 45/100\n",
      "3594/3594 [==============================] - 14s 4ms/step - loss: 9.3489e-04\n",
      "Epoch 46/100\n",
      "3594/3594 [==============================] - 14s 4ms/step - loss: 8.8848e-04\n",
      "Epoch 47/100\n",
      "3594/3594 [==============================] - 14s 4ms/step - loss: 8.3796e-04\n",
      "Epoch 48/100\n",
      "3594/3594 [==============================] - 14s 4ms/step - loss: 8.3248e-04\n",
      "Epoch 49/100\n",
      "3594/3594 [==============================] - 15s 4ms/step - loss: 8.8089e-04\n",
      "Epoch 50/100\n",
      "3594/3594 [==============================] - 14s 4ms/step - loss: 8.3143e-04\n",
      "Epoch 51/100\n",
      "3594/3594 [==============================] - 14s 4ms/step - loss: 8.5934e-04\n",
      "Epoch 52/100\n",
      "3594/3594 [==============================] - 14s 4ms/step - loss: 8.1646e-04\n",
      "Epoch 53/100\n",
      "3594/3594 [==============================] - 14s 4ms/step - loss: 8.3054e-04\n",
      "Epoch 54/100\n",
      "3594/3594 [==============================] - 14s 4ms/step - loss: 8.3785e-04\n",
      "Epoch 55/100\n",
      "3594/3594 [==============================] - 13s 4ms/step - loss: 7.7166e-04\n",
      "Epoch 56/100\n",
      "3594/3594 [==============================] - 14s 4ms/step - loss: 8.1797e-04\n",
      "Epoch 57/100\n",
      "3594/3594 [==============================] - 15s 4ms/step - loss: 8.4132e-04\n",
      "Epoch 58/100\n",
      "3594/3594 [==============================] - 15s 4ms/step - loss: 8.2068e-04\n",
      "Epoch 59/100\n",
      "3594/3594 [==============================] - 15s 4ms/step - loss: 8.5009e-04\n",
      "Epoch 60/100\n",
      "3594/3594 [==============================] - 15s 4ms/step - loss: 7.7816e-04\n",
      "Epoch 61/100\n",
      "3594/3594 [==============================] - 16s 4ms/step - loss: 8.1543e-04\n",
      "Epoch 62/100\n",
      "3594/3594 [==============================] - 16s 4ms/step - loss: 7.8176e-04\n",
      "Epoch 63/100\n",
      "3594/3594 [==============================] - 16s 4ms/step - loss: 8.0872e-04\n",
      "Epoch 64/100\n",
      "3594/3594 [==============================] - 14s 4ms/step - loss: 7.9677e-04\n",
      "Epoch 65/100\n",
      "3594/3594 [==============================] - 15s 4ms/step - loss: 7.4651e-04\n",
      "Epoch 66/100\n",
      "3594/3594 [==============================] - 14s 4ms/step - loss: 7.4584e-04\n",
      "Epoch 67/100\n",
      "3594/3594 [==============================] - 14s 4ms/step - loss: 8.1806e-04\n",
      "Epoch 68/100\n",
      "3594/3594 [==============================] - 14s 4ms/step - loss: 7.7381e-04\n",
      "Epoch 69/100\n",
      "3594/3594 [==============================] - 14s 4ms/step - loss: 7.8651e-04\n",
      "Epoch 70/100\n",
      "3594/3594 [==============================] - 14s 4ms/step - loss: 8.5072e-04\n",
      "Epoch 71/100\n",
      "3594/3594 [==============================] - 14s 4ms/step - loss: 6.9546e-04\n",
      "Epoch 72/100\n",
      "3594/3594 [==============================] - 13s 4ms/step - loss: 7.0544e-04\n",
      "Epoch 73/100\n",
      "3594/3594 [==============================] - 14s 4ms/step - loss: 7.7689e-04\n",
      "Epoch 74/100\n",
      "3594/3594 [==============================] - 13s 4ms/step - loss: 7.3394e-04\n",
      "Epoch 75/100\n",
      "3594/3594 [==============================] - 13s 4ms/step - loss: 7.1908e-04\n",
      "Epoch 76/100\n",
      "3594/3594 [==============================] - 13s 4ms/step - loss: 7.7995e-04\n",
      "Epoch 77/100\n",
      "3594/3594 [==============================] - 13s 4ms/step - loss: 7.4567e-04\n",
      "Epoch 78/100\n",
      "3594/3594 [==============================] - 13s 4ms/step - loss: 7.3153e-04\n",
      "Epoch 79/100\n",
      "3594/3594 [==============================] - 14s 4ms/step - loss: 8.1276e-04\n",
      "Epoch 80/100\n",
      "3594/3594 [==============================] - 13s 4ms/step - loss: 7.4301e-04\n",
      "Epoch 81/100\n",
      "3594/3594 [==============================] - 14s 4ms/step - loss: 7.5967e-04\n",
      "Epoch 82/100\n",
      "3594/3594 [==============================] - 18s 5ms/step - loss: 8.2111e-04\n",
      "Epoch 83/100\n",
      "3594/3594 [==============================] - 18s 5ms/step - loss: 7.3480e-04\n",
      "Epoch 84/100\n",
      "3594/3594 [==============================] - 18s 5ms/step - loss: 7.1320e-04\n",
      "Epoch 85/100\n",
      "3594/3594 [==============================] - 17s 5ms/step - loss: 7.1448e-04\n",
      "Epoch 86/100\n",
      "3594/3594 [==============================] - 17s 5ms/step - loss: 7.3953e-04\n",
      "Epoch 87/100\n",
      "3594/3594 [==============================] - 16s 5ms/step - loss: 7.5078e-04\n",
      "Epoch 88/100\n",
      "3594/3594 [==============================] - 16s 4ms/step - loss: 7.3583e-04\n",
      "Epoch 89/100\n",
      "3594/3594 [==============================] - 16s 5ms/step - loss: 7.0149e-04\n",
      "Epoch 90/100\n",
      "3594/3594 [==============================] - 15s 4ms/step - loss: 7.1966e-04\n",
      "Epoch 91/100\n",
      "3594/3594 [==============================] - 15s 4ms/step - loss: 7.1309e-04\n",
      "Epoch 92/100\n",
      "3594/3594 [==============================] - 16s 4ms/step - loss: 7.3294e-04\n",
      "Epoch 93/100\n",
      "3594/3594 [==============================] - 16s 4ms/step - loss: 7.6984e-04\n",
      "Epoch 94/100\n",
      "3594/3594 [==============================] - 16s 4ms/step - loss: 7.4257e-04\n",
      "Epoch 95/100\n",
      "3594/3594 [==============================] - 16s 4ms/step - loss: 8.0005e-04\n",
      "Epoch 96/100\n",
      "3594/3594 [==============================] - 16s 4ms/step - loss: 8.5728e-04\n",
      "Epoch 97/100\n",
      "3594/3594 [==============================] - 15s 4ms/step - loss: 7.3300e-04\n",
      "Epoch 98/100\n",
      "3594/3594 [==============================] - 16s 4ms/step - loss: 7.2004e-04\n",
      "Epoch 99/100\n",
      "3594/3594 [==============================] - 16s 4ms/step - loss: 7.2827e-04\n",
      "Epoch 100/100\n",
      "3594/3594 [==============================] - 16s 4ms/step - loss: 7.5761e-04\n"
     ]
    },
    {
     "data": {
      "text/plain": [
       "<keras.callbacks.callbacks.History at 0x1b5489d4688>"
      ]
     },
     "execution_count": 25,
     "metadata": {},
     "output_type": "execute_result"
    }
   ],
   "source": [
    "model.fit(x_train,y_train,epochs=100,batch_size=32)"
   ]
  },
  {
   "cell_type": "code",
   "execution_count": 26,
   "metadata": {},
   "outputs": [],
   "source": [
    "# Getting test dataset\n",
    "test_dataset = pd.read_csv(r'C:\\Users\\Umesh\\Documents\\JupyterNotebook\\google stock price prediction\\testset_1.csv')"
   ]
  },
  {
   "cell_type": "code",
   "execution_count": 28,
   "metadata": {},
   "outputs": [],
   "source": [
    "# Getting real stock price of 2020 \n",
    "real_stock_price = test_dataset.iloc[:,1:2].values"
   ]
  },
  {
   "cell_type": "code",
   "execution_count": 29,
   "metadata": {},
   "outputs": [],
   "source": [
    "# predicted stock price of 2020\n",
    "dataset_total=pd.concat((dataset_train['Open'],test_dataset['Open']),axis=0)\n",
    "inputs=dataset_total[len(dataset_total)-len(test_dataset)-60:].values\n",
    "inputs=inputs.reshape(-1,1)\n",
    "inputs=sc.transform(inputs)"
   ]
  },
  {
   "cell_type": "code",
   "execution_count": 30,
   "metadata": {},
   "outputs": [],
   "source": [
    "X_test=[]\n",
    "for i in range(60,81):\n",
    "  X_test.append(inputs[i-60:i,0])\n",
    "\n",
    "X_test=np.array(X_test)  \n",
    "\n",
    "X_test=np.reshape(X_test,(X_test.shape[0],X_test.shape[1],1))"
   ]
  },
  {
   "cell_type": "code",
   "execution_count": 32,
   "metadata": {},
   "outputs": [],
   "source": [
    "predicted_stock_price=model.predict(X_test)\n",
    "predicted_stock_price=sc.inverse_transform(predicted_stock_price)"
   ]
  },
  {
   "cell_type": "code",
   "execution_count": 41,
   "metadata": {},
   "outputs": [
    {
     "data": {
      "image/png": "[encoded data removed]",
      "text/plain": [
       "<Figure size 432x288 with 1 Axes>"
      ]
     },
     "metadata": {
      "needs_background": "light"
     },
     "output_type": "display_data"
    }
   ],
   "source": [
    "#Visualising the result\n",
    "plt.plot(real_stock_price,color='blue',label='Real Stock Price')\n",
    "plt.plot(predicted_stock_price,color='red',label='Predicted Stock Price')\n",
    "plt.legend()\n",
    "plt.xlabel('Time')\n",
    "plt.ylabel('Stock Price')\n",
    "plt.title('Prediction stock price curve')\n",
    "plt.savefig('Google_Stock_Price_Predictionr.png')\n",
    "plt.show()"
   ]
  },
  {
   "cell_type": "code",
   "execution_count": null,
   "metadata": {},
   "outputs": [],
   "source": []
  }
 ],
 "metadata": {
  "kernelspec": {
   "display_name": "Python 3",
   "language": "python",
   "name": "python3"
  },
  "language_info": {
   "codemirror_mode": {
    "name": "ipython",
    "version": 3
   },
   "file_extension": ".py",
   "mimetype": "text/x-python",
   "name": "python",
   "nbconvert_exporter": "python",
   "pygments_lexer": "ipython3",
   "version": "3.7.4"
  }
 },
 "nbformat": 4,
 "nbformat_minor": 2
}
